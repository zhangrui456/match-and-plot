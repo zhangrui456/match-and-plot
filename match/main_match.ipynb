{
 "cells": [
  {
   "cell_type": "code",
   "execution_count": 9,
   "id": "20266b02",
   "metadata": {},
   "outputs": [],
   "source": [
    "import numpy as np\n",
    "import pandas as pd\n",
    "from astropy.table import Table\n",
    "import os\n",
    "import glob\n",
    "from match_cloud import match_simu_detect"
   ]
  },
  {
   "cell_type": "code",
   "execution_count": null,
   "id": "2483b8b1",
   "metadata": {},
   "outputs": [],
   "source": [
    "num = 10  # 核表密度\n",
    "match_result = r'Match_result/match_LDC_testdata_1/n_clump_%03d' % num #结果保存路径\n",
    "glob_path = r'/home/data/zhangr/detect_LDC_testdata_1/n_clump_%03d/outcat_path/*.txt' % num # 检测核表文件夹路径（用于计数）\n",
    "path_file_number = glob.glob(glob_path) ## 检测核表数量\n",
    "file_number = len(path_file_number)\n",
    "print('file_number = ', file_number)\n",
    "for i in range(0, file_number):\n",
    "    # i = 214\n",
    "    id = str(i).rjust(3, '0')\n",
    "    #仿真数据路径\n",
    "    simulated_outcat_path = r'/home/share/project_clump/data_zhougr/test_data/n_clump_%03d/outcat/gaussian_outcat_%s.txt'  % (num, id)\n",
    "    #检测数据路径\n",
    "    detected_outcat_path = r'/home/data/zhangr/detect_LDC_testdata_1/n_clump_%03d/outcat_path/gaussian_out_%s_outcat.txt' % (num, id)\n",
    "    \n",
    "    # LDC算法检测核表参数输入\n",
    "    para_s = {\"scl\": 'Cen1', \"scb\": 'Cen2', \"scv\": 'Cen3', \"ssl\": 'Size1', \"ssb\": 'Size2', \"ssv\": 'Size3'}#仿真核表表头\n",
    "    para_d = {\"dcl\":'Cen1',\"dcb\":'Cen2',\"dcv\":'Cen3'}#检测核表表头\n",
    "    para_n = {\"son\":1,\"don\":1}#仿真和检测核表坐标起始值\n",
    "    \n",
    "#     # Conbased算法生成数据匹配\n",
    "#     para_s = {\"scl\": 'Cen1', \"scb\": 'Cen2', \"scv\": 'Cen3', \"ssl\": 'Size1', \"ssb\": 'Size2', \"ssv\": 'Size3'}#仿真核表表头\n",
    "#     para_d = {\"dcl\":'Cen3',\"dcb\":'Cen2',\"dcv\":'Cen1'}#检测核表表头\n",
    "#     para_n = {\"son\":1,\"don\":0}#仿真和检测核表坐标起始值\n",
    "\n",
    "    match_simu_detect(simulated_outcat_path, detected_outcat_path, match_result, para_s, para_d, para_n)\n",
    "    # break"
   ]
  }
 ],
 "metadata": {
  "kernelspec": {
   "display_name": "Python 3",
   "language": "python",
   "name": "python3"
  },
  "language_info": {
   "codemirror_mode": {
    "name": "ipython",
    "version": 3
   },
   "file_extension": ".py",
   "mimetype": "text/x-python",
   "name": "python",
   "nbconvert_exporter": "python",
   "pygments_lexer": "ipython3",
   "version": "3.8.8"
  }
 },
 "nbformat": 4,
 "nbformat_minor": 5
}
